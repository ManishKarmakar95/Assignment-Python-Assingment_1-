{
 "cells": [
  {
   "cell_type": "code",
   "execution_count": null,
   "metadata": {},
   "outputs": [],
   "source": [
    "'''Write a Python program to find those numbers which are divisible by 7\n",
    "and multiple of 5, between 1500 and 2700 (both included)'''\n",
    "a=[]\n",
    "for x in range(1500,2701):\n",
    "    if (x%7==0)and(x%5==0):\n",
    "        a.append(str(x))\n",
    "print(','.join(a))"
   ]
  },
  {
   "cell_type": "code",
   "execution_count": null,
   "metadata": {},
   "outputs": [],
   "source": [
    "\"\"\"Python program to add two numbers\"\"\"\n",
    "a= int (input(\"enter 1st no \"))\n",
    "b= int (input(\"enter 2nd no \"))\n",
    "sum=(a+b)\n",
    "print(sum)\n"
   ]
  },
  {
   "cell_type": "code",
   "execution_count": null,
   "metadata": {},
   "outputs": [],
   "source": [
    "'Maximum of two numbers in Python'\n",
    "a= input('enter 1st no ')\n",
    "b= input('enter 2nd no ')\n",
    "maximum=(max(a,b))\n",
    "print(maximum)"
   ]
  },
  {
   "cell_type": "code",
   "execution_count": null,
   "metadata": {},
   "outputs": [],
   "source": [
    "'Python Program for factorial of a number'\n",
    "\n",
    "def factorial(a):\n",
    "    if a < 0:\n",
    "        return 0\n",
    "    elif a == 0 or a == 1:\n",
    "        return 1\n",
    "    else:\n",
    "        fact = 1\n",
    "        while(a > 1):\n",
    "            fact *= a\n",
    "            a -= 1\n",
    "        return fact\n",
    " \n",
    "# Driver Code\n",
    "num = 7;\n",
    "print(\"Factorial of\",num,\"is\",\n",
    "factorial(num))"
   ]
  },
  {
   "cell_type": "code",
   "execution_count": null,
   "metadata": {},
   "outputs": [],
   "source": [
    "'Python Program for simple interest'\n",
    "p=int(input('enter principal amount '))\n",
    "t=int(input('enter period of time in months '))\n",
    "r=int(input('enter rate of intrest '))\n",
    "si=(p*r*t)/100\n",
    "print ('The Simple Interest is',si)"
   ]
  },
  {
   "cell_type": "code",
   "execution_count": null,
   "metadata": {},
   "outputs": [],
   "source": [
    "'Python Program for compound interest'\n",
    "p=int(input('enter principal amount '))\n",
    "t=int(input('enter period of time in months '))\n",
    "r=int(input('enter rate of intrest '))\n",
    "ci =  p * (pow((1 + r / 100), t))\n",
    "print(ci)"
   ]
  },
  {
   "cell_type": "code",
   "execution_count": null,
   "metadata": {},
   "outputs": [],
   "source": [
    "'Python Program to check Armstrong Number'\n",
    "num = int(input(\"Enter a number: \"))\n",
    "sum = 0\n",
    "\n",
    "temp = num\n",
    "while temp > 0:\n",
    "   digit = temp % 10\n",
    "   sum += digit ** 3\n",
    "   temp //= 10\n",
    "if num == sum:\n",
    "   print(num,\"is an Armstrong number\")\n",
    "else:\n",
    "   print(num,\"is not an Armstrong number\")\n"
   ]
  },
  {
   "cell_type": "code",
   "execution_count": null,
   "metadata": {},
   "outputs": [],
   "source": [
    "'Python Program for Program to find area of a circle'\n",
    "a=int(input('enter area '))\n",
    "PI=3.14\n",
    "area=PI*(a**2)\n",
    "print(area)"
   ]
  },
  {
   "cell_type": "code",
   "execution_count": null,
   "metadata": {},
   "outputs": [],
   "source": [
    "'Python program to print all Prime numbers in an Interval'\n",
    "range_first = int(input(\"Enter lower range: \"))  \n",
    "range_last = int(input(\"Enter upper range: \"))  \n",
    "  \n",
    "for n in range(range_first,range_last + 1):  \n",
    "   if n > 1:  \n",
    "       for i in range(2,n):  \n",
    "           if (n % i) == 0:  \n",
    "               break  \n",
    "       else:  \n",
    "           print(n)"
   ]
  },
  {
   "cell_type": "code",
   "execution_count": null,
   "metadata": {},
   "outputs": [],
   "source": [
    "'Python program to check whether a number is Prime or not'\n",
    "def PrimeChecker(x):  \n",
    "    if x > 1:  \n",
    "        for i in range(2, int(x/2) + 1):  \n",
    "            if (x % i) == 0:  \n",
    "                print(x, \"is not a prime number\")  \n",
    "                break  \n",
    "        else:  \n",
    "            print(x, \"is a prime number\")  \n",
    "    else:  \n",
    "        print(x, \"is not a prime number\")  \n",
    "a = int(input(\"Enter an input number:\"))  \n",
    "PrimeChecker(x)   "
   ]
  }
 ],
 "metadata": {
  "interpreter": {
   "hash": "2be5faf79681da6f2a61fdfdd5405d65d042280f7fba6178067603e3a2925119"
  },
  "kernelspec": {
   "display_name": "Python 3.10.0 64-bit",
   "name": "python3"
  },
  "language_info": {
   "codemirror_mode": {
    "name": "ipython",
    "version": 3
   },
   "file_extension": ".py",
   "mimetype": "text/x-python",
   "name": "python",
   "nbconvert_exporter": "python",
   "pygments_lexer": "ipython3",
   "version": "3.10.0"
  },
  "orig_nbformat": 4
 },
 "nbformat": 4,
 "nbformat_minor": 2
}
